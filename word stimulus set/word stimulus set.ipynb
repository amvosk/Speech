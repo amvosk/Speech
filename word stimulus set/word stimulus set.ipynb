{
 "cells": [
  {
   "cell_type": "code",
   "execution_count": 2,
   "metadata": {},
   "outputs": [],
   "source": [
    "import os\n",
    "import numpy as np\n",
    "import h5py\n",
    "import rusyllab\n",
    "import re\n",
    "import copy\n",
    "import matplotlib.pyplot as plt\n",
    "\n",
    "from tqdm import tqdm\n",
    "\n",
    "import codecs\n",
    "from russian_g2p.Accentor import Accentor\n",
    "from russian_g2p.Grapheme2Phoneme import Grapheme2Phoneme\n",
    "\n",
    "from functools import reduce\n",
    "\n",
    "import scipy.stats"
   ]
  },
  {
   "cell_type": "markdown",
   "metadata": {},
   "source": [
    "## Files and phonemes"
   ]
  },
  {
   "cell_type": "code",
   "execution_count": 3,
   "metadata": {},
   "outputs": [],
   "source": [
    "def readlines(filepath):\n",
    "    lines = []\n",
    "    with codecs.open(filepath, 'r', encoding='utf-8') as file:\n",
    "        for line in file.readlines():\n",
    "            line = line.strip()\n",
    "            if len(line) > 0:\n",
    "                lines.append(line)\n",
    "    return lines\n",
    "\n",
    "def make_accent(words):\n",
    "    return list(map(lambda x: x[:2] + '+' + x[2:], words))\n",
    "\n",
    "def make_transcript(words):\n",
    "    transcript2word = {}\n",
    "    accents = make_accent(words)\n",
    "    transcriptor = Grapheme2Phoneme()\n",
    "    transcript = []\n",
    "    for i, accent in enumerate(accents):\n",
    "        script = transcriptor.word_to_phonemes(accent)\n",
    "        transcript.append(script)\n",
    "        transcript2word[''.join(script)] = i\n",
    "    return transcript, transcript2word\n",
    "\n",
    "def make_transcript_simple(transcript, words=None):\n",
    "    transcript2word = {}\n",
    "    transcript_new = []\n",
    "    for i, script in enumerate(transcript):\n",
    "        script_new = []\n",
    "        for phoneme in script:\n",
    "            if ('0' in phoneme) and (phoneme[0] != 'J'):\n",
    "                script_new.append(phoneme[:-1])\n",
    "            else:\n",
    "                script_new.append(phoneme)\n",
    "        if words is not None:\n",
    "            transcript2word[''.join(script_new)] = i\n",
    "        transcript_new.append(script_new)\n",
    "    return transcript_new, transcript2word\n",
    "\n",
    "def count_total(ls):\n",
    "    ls = reduce(lambda acc, x: acc + x, ls)\n",
    "    counts = {}\n",
    "    for phoneme in ls:\n",
    "        if phoneme in counts:\n",
    "            counts[phoneme] += 1\n",
    "        else:\n",
    "            counts[phoneme] = 1\n",
    "    return counts\n",
    "\n",
    "def phoneme_filter(transcript, phoneme_set):\n",
    "    transcript_new = []\n",
    "    for script in transcript:\n",
    "        count = 0\n",
    "        for phoneme in script:\n",
    "            if phoneme in phoneme_set:\n",
    "                count += 1\n",
    "        if count == len(script):\n",
    "            transcript_new.append(copy.copy(script))\n",
    "    return transcript_new\n",
    "\n",
    "def phoneme_filter_hard(transcript, phoneme_set_simple, phoneme_set):\n",
    "    transcript_simple, _ = make_transcript_simple(transcript) \n",
    "    transcript_new = []\n",
    "    for i, script in enumerate(transcript_simple):\n",
    "        count = 0\n",
    "        for phoneme in script:\n",
    "            if phoneme in phoneme_set_simple:\n",
    "                count += 1\n",
    "        if count == len(script):\n",
    "            transcript_new.append(copy.copy(transcript[i]))\n",
    "    return transcript_new"
   ]
  },
  {
   "cell_type": "code",
   "execution_count": 5,
   "metadata": {},
   "outputs": [],
   "source": [
    "dirpath = r'words/CVCVC/'\n",
    "nounfile = 'nouns4hand1.txt'\n",
    "verbfile = 'verbs1hand2.txt'\n",
    "adjfile = 'adj1hand1.txt'"
   ]
  },
  {
   "cell_type": "code",
   "execution_count": 6,
   "metadata": {},
   "outputs": [],
   "source": [
    "phonems = {}\n",
    "phonems['vowels'] = ['A', 'U', 'E', 'O', 'I', 'Y']\n",
    "phonems['vowels_short'] = ['A', 'U', 'E', 'O', 'I']\n",
    "phonems['vowels_accent'] = ['A0', 'U0', 'E0', 'O0', 'I0', 'Y0']\n",
    "phonems['consonants_sonorous'] = ['M', 'N', 'L', 'R']\n",
    "phonems['consonants_sonorous_soft'] = ['M0', 'N0', 'L0', 'R0']\n",
    "phonems['consonants_voiced'] = ['B', 'V', 'G', 'D', 'Z']\n",
    "phonems['consonants_voiced_soft'] = ['B0', 'V0', 'G0', 'D0', 'Z0']\n",
    "phonems['consonants_unvoiced'] = ['P', 'F', 'K', 'T', 'S']\n",
    "phonems['consonants_unvoiced_soft'] = ['P0', 'F0', 'K0', 'T0', 'S0']\n",
    "\n",
    "phonems_V_full = phonems['vowels'] + phonems['vowels_accent']\n",
    "phonems_C_sound = phonems['consonants_sonorous'] + phonems['consonants_voiced']\n",
    "phonems_C_hard = phonems['consonants_sonorous'] + phonems['consonants_voiced'] + phonems['consonants_unvoiced']\n",
    "phonems_C_soft = phonems['consonants_sonorous_soft'] + phonems['consonants_voiced_soft'] + phonems['consonants_unvoiced_soft']\n",
    "\n",
    "phonems['consonants_J0'] = ['J0']\n",
    "phonems['consonants_voiced_add'] = ['ZH']\n",
    "phonems['consonants_unvoiced_add1'] = ['SH']\n",
    "phonems['consonants_unvoiced_add2'] = ['KH']\n",
    "phonems['consonants_unvoiced_soft_add'] = ['SH0']  "
   ]
  },
  {
   "cell_type": "code",
   "execution_count": 19,
   "metadata": {},
   "outputs": [],
   "source": [
    "phonemes15 = phonems['vowels'] + phonems['consonants_sonorous'] + phonems['consonants_voiced']\n",
    "phonemes16 = phonems['vowels'] + phonems['consonants_sonorous'] + phonems['consonants_voiced'] + phonems['consonants_voiced_add']\n",
    "phonemes17 = phonems['vowels'] + phonems['consonants_sonorous'] + phonems['consonants_voiced'] + phonems['consonants_voiced_add'] + phonems['consonants_J0']\n",
    "\n",
    "phonemes21 = phonems['vowels'] + phonems_C_hard + phonems['consonants_J0']\n",
    "\n",
    "phonemes35 = phonems['vowels'] + phonems_C_hard + phonems_C_soft + phonems['consonants_J0']\n",
    "phonemes41 = phonems_V_full + phonems_C_hard + phonems_C_soft + phonems['consonants_J0']"
   ]
  },
  {
   "cell_type": "markdown",
   "metadata": {},
   "source": [
    "## make Vocabulary"
   ]
  },
  {
   "cell_type": "code",
   "execution_count": 20,
   "metadata": {},
   "outputs": [],
   "source": [
    "class Word:\n",
    "    def __init__(self, word, index, transcript, transcript_simple):\n",
    "        self.word = word\n",
    "        self.index = index\n",
    "        self.transcript = transcript\n",
    "        self.transcript_simple = transcript_simple\n",
    "    \n",
    "    def __str__(self):\n",
    "        return  str(self.index) + self.word + ' ' + ''.join(self.transcript) + ' ' + ''.join(self.transcript_simple)\n",
    "    def __repr__(self):\n",
    "        return self.word\n",
    "    \n",
    "\n",
    "class Vocabulary:\n",
    "    def __init__(self, noun, verb, adj):\n",
    "        words = noun, verb, adj\n",
    "        self.words = [[],[],[]]\n",
    "        for i, wordls in enumerate(words):\n",
    "            transcript, _ = make_transcript(wordls)\n",
    "            transcript_simple, _ = make_transcript_simple(transcript)\n",
    "            for j in range(len(wordls)):\n",
    "                word = Word(wordls[j], j, transcript[j], transcript_simple[j])\n",
    "                self.words[i].append(word)\n",
    "        \n",
    "    def phoneme_filter_simple(self, phonemes):\n",
    "        words = [[],[],[]]\n",
    "        for i, wordls in enumerate(self.words):\n",
    "            for word in wordls:\n",
    "                counter = 0\n",
    "                for phoneme in word.transcript_simple:\n",
    "                    if phoneme in phonemes:\n",
    "                        counter += 1\n",
    "                if counter == len(word.transcript_simple):\n",
    "                    words[i].append(word)\n",
    "        self.words = words\n",
    "        print(len(self.words[0]), len(self.words[1]), len(self.words[2]))"
   ]
  },
  {
   "cell_type": "code",
   "execution_count": 21,
   "metadata": {},
   "outputs": [
    {
     "name": "stdout",
     "output_type": "stream",
     "text": [
      "89 35 45\n"
     ]
    }
   ],
   "source": [
    "noun = readlines(dirpath + nounfile)\n",
    "verb = readlines(dirpath + verbfile)\n",
    "adj = readlines(dirpath + adjfile)\n",
    "\n",
    "vocabulary = Vocabulary(noun, verb, adj)\n",
    "vocabulary.phoneme_filter_simple(phonems21j)"
   ]
  },
  {
   "cell_type": "markdown",
   "metadata": {},
   "source": [
    "## Get word set from vocabulary"
   ]
  },
  {
   "cell_type": "code",
   "execution_count": 22,
   "metadata": {},
   "outputs": [],
   "source": [
    "class WordSet():\n",
    "    def __init__(self, vocabulary, nwords, phonemes, phonemes2, seed=0):\n",
    "        self.vocabulary = vocabulary\n",
    "        self.nwords = nwords\n",
    "        self.phonemes = phonemes\n",
    "        self.phonemes2 = phonemes2\n",
    "        self.phonemes2index, self.phonemes2index2 = {}, {}\n",
    "        for i, phoneme in enumerate(self.phonemes):\n",
    "            self.phonemes2index[phoneme] = i\n",
    "        for i, phoneme in enumerate(self.phonemes2):\n",
    "            self.phonemes2index2[phoneme] = i\n",
    "        self.entropy_total = []\n",
    "        self.bestwordset_entropy = []\n",
    "\n",
    "        self.acc = []\n",
    "        self.wordset = []\n",
    "        self.bestwordset = None\n",
    "        np.random.seed(seed)\n",
    "        self._random_start()\n",
    "\n",
    "    def _random_start(self):\n",
    "        for j, (nword, words) in enumerate(zip(self.nwords, self.vocabulary.words)):\n",
    "            bad_choice_count = 0\n",
    "            bad_choice_flag = True\n",
    "            while bad_choice_flag and (bad_choice_count < 100):\n",
    "                bad_choice_flag = False\n",
    "                choice = np.random.choice(np.arange(len(words)), size=nword, replace=False)\n",
    "                sample = np.zeros(len(words)).astype(int)\n",
    "                for i in choice:\n",
    "                    sample[i] = words[i].index\n",
    "                wordsubset = []\n",
    "                \n",
    "                for i in choice:\n",
    "                    for subword in wordsubset:\n",
    "                        bad_choice_flag = (j == 1) and words[i].word[:4] == subword.word[:4]\n",
    "                    wordsubset.append(words[i])\n",
    "                bad_choice_count += 1\n",
    "            self.acc.append(sample)\n",
    "            self.wordset.append(wordsubset)\n",
    "\n",
    "    def get_entropy(self):\n",
    "        counts = np.zeros(len(self.phonemes)).astype(int)\n",
    "        counts2 = np.zeros(len(self.phonemes2)).astype(int)\n",
    "        counts_subsets = [np.zeros(len(self.phonemes)).astype(int) for _ in range(3)]\n",
    "        counts2_subsets = [np.zeros(len(self.phonemes2)).astype(int) for _ in range(3)]\n",
    "        \n",
    "        for i, subset in enumerate(self.wordset):\n",
    "            for word in subset:\n",
    "                for phoneme in word.transcript_simple:\n",
    "                    counts[self.phonemes2index[phoneme]] += 1\n",
    "                    counts_subsets[i][self.phonemes2index[phoneme]] += 1\n",
    "                for phoneme in word.transcript:\n",
    "                    counts2[self.phonemes2index2[phoneme]] += 1\n",
    "                    counts2_subsets[i][self.phonemes2index2[phoneme]] += 1\n",
    "        \n",
    "        entropy = scipy.stats.entropy(counts)\n",
    "        entropy2 = scipy.stats.entropy(counts2)\n",
    "        entropy_subsets = np.mean([scipy.stats.entropy(count) for count in counts_subsets])\n",
    "        entropy2_subsets = np.mean([scipy.stats.entropy(count2) for count2 in counts2_subsets])\n",
    "        return entropy, entropy2, entropy_subsets, entropy2_subsets\n",
    "    \n",
    "    def get_counts(self, wordset=None):\n",
    "        if wordset==None:\n",
    "            wordset=self.wordset\n",
    "        counts = np.zeros(len(self.phonemes)).astype(int)\n",
    "        counts2 = np.zeros(len(self.phonemes2)).astype(int)\n",
    "        for _, subset in enumerate(wordset):\n",
    "            for word in subset:\n",
    "                for phoneme in word.transcript_simple:\n",
    "                    counts[self.phonemes2index[phoneme]] += 1\n",
    "                for phoneme in word.transcript:\n",
    "                    counts2[self.phonemes2index2[phoneme]] += 1\n",
    "        return counts, counts2\n",
    "        \n",
    "    def get_entropy_total(self, alpha, beta, gamma, delta):\n",
    "        entropy, entropy2, entropy_subsets, entropy2_subsets = self.get_entropy()\n",
    "        return alpha*entropy + beta*entropy2 + gamma*entropy_subsets + delta*entropy2_subsets\n",
    "\n",
    "    def greedy_entropy_maximization(self, niter=1000, alpha=1, beta=0, gamma=0, delta=0, eps_iter=30, bestwordset_iter=100):\n",
    "        p = np.asarray(self.nwords) / np.sum(self.nwords)\n",
    "\n",
    "        entropy_total = self.get_entropy_total(alpha, beta, gamma, delta)\n",
    "        self.entropy_total.append(entropy_total)\n",
    "        \n",
    "        self.bestwordset = copy.deepcopy(self.wordset)\n",
    "        bestwordset_counter = 0\n",
    "        eps_counter = 0\n",
    "        self.bestwordset_entropy.append(entropy_total)\n",
    "        \n",
    "        for _ in tqdm(range(niter)):\n",
    "            choice1 = np.random.choice(np.arange(3), size=1, replace=False, p=p)[0]\n",
    "            choice2 = np.random.choice(self.nwords[choice1], size=1, replace=False)[0]\n",
    "            old_word = self.wordset[choice1][choice2]\n",
    "            old_index = np.where(self.acc[choice1] == old_word.index)[0]\n",
    "            new_word_possible_index = np.where(self.acc[choice1]==0)[0]\n",
    "            choice3 = np.random.choice(new_word_possible_index, size=1, replace=False)[0]\n",
    "            new_word = self.vocabulary.words[choice1][choice3]\n",
    "            \n",
    "            bad_word_flag = False\n",
    "            for word in self.wordset[choice1]:\n",
    "                if new_word.word[:4] == word.word[:4]:\n",
    "                    bad_word_flag = True\n",
    "                    break\n",
    "            if bad_word_flag:\n",
    "                continue\n",
    "                \n",
    "            self.wordset[choice1][choice2] = new_word\n",
    "            entropy_total = self.get_entropy_total(alpha, beta, gamma, delta)\n",
    "            entropy_laststep = self.entropy_total[-1]\n",
    "            criterion = (entropy_total >= entropy_laststep)\n",
    "            \n",
    "            if criterion or ((bestwordset_counter >= bestwordset_iter) and (eps_counter >= eps_iter)):\n",
    "                self.entropy_total.append(entropy_total)\n",
    "                self.acc[choice1][choice3] = new_word.index\n",
    "                self.acc[choice1][old_index] = 0\n",
    "                eps_counter = 0\n",
    "                if entropy_total > self.bestwordset_entropy[-1]:\n",
    "                    bestwordset_counter = 0\n",
    "                    self.bestwordset = copy.deepcopy(self.wordset)\n",
    "                    self.bestwordset_entropy.append(entropy_total)\n",
    "                    # self.bestwordset_entropy = entropy_total\n",
    "                else:\n",
    "                    self.bestwordset_entropy.append(self.bestwordset_entropy[-1])\n",
    "            else:\n",
    "                self.wordset[choice1][choice2] = old_word\n",
    "                self.entropy_total.append(entropy_laststep)\n",
    "                self.bestwordset_entropy.append(self.bestwordset_entropy[-1])\n",
    "                bestwordset_counter += 1\n",
    "                eps_counter += 1"
   ]
  },
  {
   "cell_type": "code",
   "execution_count": 23,
   "metadata": {},
   "outputs": [
    {
     "name": "stderr",
     "output_type": "stream",
     "text": [
      "100%|████████████████████████████████████████████████████████████████████████| 200000/200000 [01:35<00:00, 2090.28it/s]"
     ]
    },
    {
     "name": "stdout",
     "output_type": "stream",
     "text": [
      "Wall time: 1min 35s\n"
     ]
    },
    {
     "name": "stderr",
     "output_type": "stream",
     "text": [
      "\n"
     ]
    }
   ],
   "source": [
    "%%time\n",
    "start_seed = 2\n",
    "nwords = 10, 5, 5\n",
    "wsd = WordSet(vocabulary, nwords, phonemes21, phonemes41, seed=start_seed)\n",
    "wsd.greedy_entropy_maximization(200000, alpha=1, beta=0.1, gamma=0, delta=0, eps_iter=3000, bestwordset_iter=10000)"
   ]
  },
  {
   "cell_type": "code",
   "execution_count": 24,
   "metadata": {},
   "outputs": [
    {
     "data": {
      "image/png": "[encoded data removed]",
      "text/plain": [
       "<Figure size 1080x216 with 1 Axes>"
      ]
     },
     "metadata": {
      "needs_background": "light"
     },
     "output_type": "display_data"
    }
   ],
   "source": [
    "fig, ax = plt.subplots(1, 1, figsize=(15, 3))\n",
    "#ax.semilogx(wsd.entropy_total)\n",
    "ax.plot(wsd.entropy_total[10000:], label='entropy_total')\n",
    "ax.plot(wsd.bestwordset_entropy[10000:], label='bestwordset_entropy')\n",
    "ax.legend()\n",
    "ax.grid();"
   ]
  },
  {
   "cell_type": "code",
   "execution_count": 25,
   "metadata": {},
   "outputs": [
    {
     "name": "stdout",
     "output_type": "stream",
     "text": [
      "3.355656588786564\n"
     ]
    },
    {
     "data": {
      "text/plain": [
       "[[бубен, разум, полюс, гомон, фокус, тезис, годик, буфер, форум, топот],\n",
       " [вымыл, резал, выпек, ведал, вынул],\n",
       " [сизый, мятый, некий, пегий, дедов]]"
      ]
     },
     "execution_count": 25,
     "metadata": {},
     "output_type": "execute_result"
    }
   ],
   "source": [
    "print(wsd.bestwordset_entropy[-1])\n",
    "wsd.bestwordset"
   ]
  },
  {
   "cell_type": "code",
   "execution_count": 29,
   "metadata": {},
   "outputs": [
    {
     "name": "stdout",
     "output_type": "stream",
     "text": [
      "[7 7 6 6 8 6 5 4 5 4 3 4 3 4 4 4 4 4 4 4 4]\n",
      "[5 5 0 0 7 3 2 2 6 6 1 3 4 3 4 3 2 3 2 2 3 2 3 3 3 3 1 1 1 1 1 1 1 2 1 2 1\n",
      " 1 1 1 4]\n"
     ]
    }
   ],
   "source": [
    "counts, counts2 = wsd.get_counts(wsd.bestwordset)\n",
    "print(counts)\n",
    "print(counts2)"
   ]
  },
  {
   "cell_type": "code",
   "execution_count": 30,
   "metadata": {},
   "outputs": [],
   "source": [
    "def generate_phrase(wordset):\n",
    "    noun_index = np.random.choice(np.arange(len(wordset[0])), size=2, replace=False)\n",
    "    verb_index = np.random.choice(np.arange(len(wordset[1])), size=1, replace=False)\n",
    "    adj_index = np.random.choice(np.arange(len(wordset[2])), size=1, replace=False)\n",
    "    \n",
    "    a = ' '.join([wordset[2][adj_index[0]].word, wordset[0][noun_index[0]].word])\n",
    "    b = wordset[1][verb_index[0]].word\n",
    "    c = wordset[0][noun_index[1]].word\n",
    "    \n",
    "    if np.random.rand(1) > 0.5:\n",
    "        phrase = a + ' ' + b + ' ' + c\n",
    "    else:\n",
    "        phrase = c + ' ' + b + ' ' + a\n",
    "    return phrase"
   ]
  },
  {
   "cell_type": "code",
   "execution_count": 34,
   "metadata": {},
   "outputs": [
    {
     "name": "stdout",
     "output_type": "stream",
     "text": [
      "пятый полюс вымыл газик\n"
     ]
    }
   ],
   "source": [
    "phrase = generate_phrase(wsd.wordset)\n",
    "print(phrase)"
   ]
  },
  {
   "cell_type": "code",
   "execution_count": null,
   "metadata": {},
   "outputs": [],
   "source": []
  }
 ],
 "metadata": {
  "kernelspec": {
   "display_name": "Python [conda env:text]",
   "language": "python",
   "name": "conda-env-text-py"
  },
  "language_info": {
   "codemirror_mode": {
    "name": "ipython",
    "version": 3
   },
   "file_extension": ".py",
   "mimetype": "text/x-python",
   "name": "python",
   "nbconvert_exporter": "python",
   "pygments_lexer": "ipython3",
   "version": "3.8.12"
  }
 },
 "nbformat": 4,
 "nbformat_minor": 4
}
